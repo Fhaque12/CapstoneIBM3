{
  "cells": [
    {
      "cell_type": "markdown",
      "metadata": {},
      "source": [
        "<p style=\"text-align:center\">\n",
        "    <a href=\"https://skills.network\" target=\"_blank\">\n",
        "    <img src=\"https://cf-courses-data.s3.us.cloud-object-storage.appdomain.cloud/assets/logos/SN_web_lightmode.png\" width=\"380\" alt=\"Skills Network Logo\">\n",
        "    </a>\n",
        "</p>\n"
      ]
    },
    {
      "cell_type": "markdown",
      "metadata": {},
      "source": [
        "# **Exploratory Data Analysis Lab**\n"
      ]
    },
    {
      "cell_type": "markdown",
      "metadata": {},
      "source": [
        "Estimated time needed: **30** minutes\n"
      ]
    },
    {
      "cell_type": "markdown",
      "metadata": {},
      "source": [
        "In this module you get to work with the cleaned dataset from the previous module.\n",
        "\n",
        "In this assignment you will perform the task of exploratory data analysis.\n",
        "You will find out the distribution of data, presence of outliers and also determine the correlation between different columns in the dataset.\n"
      ]
    },
    {
      "cell_type": "markdown",
      "metadata": {},
      "source": [
        "## Objectives\n"
      ]
    },
    {
      "cell_type": "markdown",
      "metadata": {},
      "source": [
        "In this lab you will perform the following:\n"
      ]
    },
    {
      "cell_type": "markdown",
      "metadata": {},
      "source": [
        "-   Identify the distribution of data in the dataset.\n",
        "\n",
        "-   Identify outliers in the dataset.\n",
        "\n",
        "-   Remove outliers from the dataset.\n",
        "\n",
        "-   Identify correlation between features in the dataset.\n"
      ]
    },
    {
      "cell_type": "markdown",
      "metadata": {},
      "source": [
        "* * *\n"
      ]
    },
    {
      "cell_type": "markdown",
      "metadata": {},
      "source": [
        "## Hands on Lab\n"
      ]
    },
    {
      "cell_type": "markdown",
      "metadata": {},
      "source": [
        "Import the pandas module.\n"
      ]
    },
    {
      "cell_type": "code",
      "execution_count": null,
      "metadata": {},
      "outputs": [],
      "source": [
        "import pandas as pd"
      ]
    },
    {
      "cell_type": "markdown",
      "metadata": {},
      "source": [
        "Load the dataset into a dataframe.\n"
      ]
    },
    {
      "cell_type": "markdown",
      "metadata": {},
      "source": [
        "<h2>Read Data</h2>\n",
        "<p>\n",
        "We utilize the <code>pandas.read_csv()</code> function for reading CSV files. However, in this version of the lab, which operates on JupyterLite, the dataset needs to be downloaded to the interface using the provided code below.\n",
        "</p>\n"
      ]
    },
    {
      "cell_type": "markdown",
      "metadata": {},
      "source": [
        "The functions below will download the dataset into your browser:\n"
      ]
    },
    {
      "cell_type": "code",
      "execution_count": 4,
      "metadata": {
        "trusted": true
      },
      "outputs": [],
      "source": [
        "\n",
        "#Import all required libraries\n",
        "\n",
        "import pandas as pd\n",
        "\n",
        "from pyodide.http import pyfetch\n",
        "\n",
        "async def download(url, filename):\n",
        "    response = await pyfetch(url)\n",
        "    if response.status == 200:\n",
        "        with open(filename, \"wb\") as f:\n",
        "            f.write(await response.bytes())"
      ]
    },
    {
      "cell_type": "code",
      "execution_count": 4,
      "metadata": {
        "trusted": true
      },
      "outputs": [],
      "source": [
        "file_path = \"https://cf-courses-data.s3.us.cloud-object-storage.appdomain.cloud/IBM-DA0321EN-SkillsNetwork/LargeData/m2_survey_data.csv\""
      ]
    },
    {
      "cell_type": "markdown",
      "metadata": {},
      "source": [
        "To obtain the dataset, utilize the download() function as defined above:  \n"
      ]
    },
    {
      "cell_type": "code",
      "execution_count": 2,
      "metadata": {
        "trusted": true
      },
      "outputs": [],
      "source": [
        "import pandas as pd\n",
        "\n",
        "from pyodide.http import pyfetch\n",
        "\n",
        "async def download(url, filename):\n",
        "    response = await pyfetch(url)\n",
        "    if response.status == 200:\n",
        "        with open(filename, \"wb\") as f:\n",
        "            f.write(await response.bytes())\n",
        "file_path = \"https://cf-courses-data.s3.us.cloud-object-storage.appdomain.cloud/IBM-DA0321EN-SkillsNetwork/LargeData/m2_survey_data.csv\"\n",
        "await download(file_path, \"m2_survey_data.csv\")\n",
        "file_name=\"m2_survey_data.csv.csv\""
      ]
    },
    {
      "cell_type": "markdown",
      "metadata": {},
      "source": [
        "Utilize the Pandas method read_csv() to load the data into a dataframe.\n"
      ]
    },
    {
      "cell_type": "code",
      "execution_count": 3,
      "metadata": {
        "trusted": true
      },
      "outputs": [],
      "source": [
        "import pandas as pd\n",
        "\n",
        "from pyodide.http import pyfetch\n",
        "\n",
        "async def download(url, filename):\n",
        "    response = await pyfetch(url)\n",
        "    if response.status == 200:\n",
        "        with open(filename, \"wb\") as f:\n",
        "            f.write(await response.bytes())\n",
        "file_path = \"https://cf-courses-data.s3.us.cloud-object-storage.appdomain.cloud/IBM-DA0321EN-SkillsNetwork/LargeData/m2_survey_data.csv\"\n",
        "await download(file_path, \"m2_survey_data.csv\")\n",
        "file_name=\"m2_survey_data.csv.csv\"\n",
        "df = pd.read_csv(\"m2_survey_data.csv\")"
      ]
    },
    {
      "cell_type": "markdown",
      "metadata": {},
      "source": [
        "> Note: This version of the lab is working on JupyterLite, which requires the dataset to be downloaded to the interface.While working on the downloaded version of this notebook on their local machines(Jupyter Anaconda), the learners can simply **skip the steps above,** and simply use the URL directly in the `pandas.read_csv()` function. You can uncomment and run the statements in the cell below.\n"
      ]
    },
    {
      "cell_type": "code",
      "execution_count": null,
      "metadata": {},
      "outputs": [],
      "source": [
        "#df = pd.read_csv(\"https://cf-courses-data.s3.us.cloud-object-storage.appdomain.cloud/IBM-DA0321EN-SkillsNetwork/LargeData/m2_survey_data.csv\")"
      ]
    },
    {
      "cell_type": "markdown",
      "metadata": {},
      "source": [
        "## Distribution\n"
      ]
    },
    {
      "cell_type": "markdown",
      "metadata": {},
      "source": [
        "### Determine how the data is distributed\n"
      ]
    },
    {
      "cell_type": "markdown",
      "metadata": {},
      "source": [
        "The column `ConvertedComp` contains Salary converted to annual USD salaries using the exchange rate on 2019-02-01.\n",
        "\n",
        "This assumes 12 working months and 50 working weeks.\n"
      ]
    },
    {
      "cell_type": "markdown",
      "metadata": {},
      "source": [
        "Plot the distribution curve for the column `ConvertedComp`.\n"
      ]
    },
    {
      "cell_type": "code",
      "execution_count": 5,
      "metadata": {
        "trusted": true
      },
      "outputs": [
        {
          "data": {
            "image/png": "[encoded data removed]",
            "text/plain": [
              "<Figure size 640x480 with 1 Axes>"
            ]
          },
          "metadata": {},
          "output_type": "display_data"
        }
      ],
      "source": [
        "import pandas as pd\n",
        "import matplotlib.pyplot as plt\n",
        "\n",
        "# Load your data\n",
        "df = pd.read_csv(\"m2_survey_data.csv\")\n",
        "\n",
        "# Plot the histogram\n",
        "plt.hist(df[\"ConvertedComp\"].dropna(), bins=30, edgecolor='k', alpha=0.7)\n",
        "\n",
        "# Add title and labels\n",
        "plt.title(\"Distribution of ConvertedComp\")\n",
        "plt.xlabel(\"Converted Compensation\")\n",
        "plt.ylabel(\"Frequency\")\n",
        "\n",
        "# Show the plot\n",
        "plt.show()"
      ]
    },
    {
      "cell_type": "code",
      "execution_count": 7,
      "metadata": {
        "trusted": true
      },
      "outputs": [
        {
          "name": "stdout",
          "output_type": "stream",
          "text": [
            "/drive/DA0321EN/labs/module 3\n"
          ]
        }
      ],
      "source": [
        "import os\n",
        "print(os.getcwd())"
      ]
    },
    {
      "cell_type": "code",
      "execution_count": 8,
      "metadata": {
        "trusted": true
      },
      "outputs": [
        {
          "name": "stdout",
          "output_type": "stream",
          "text": [
            "0     61000.0\n",
            "1     95179.0\n",
            "2     90000.0\n",
            "3    455352.0\n",
            "4     65277.0\n",
            "Name: ConvertedComp, dtype: float64\n"
          ]
        }
      ],
      "source": [
        "col_contents=df['ConvertedComp'].head()\n",
        "print(col_contents)"
      ]
    },
    {
      "cell_type": "markdown",
      "metadata": {},
      "source": [
        "Plot the histogram for the column `ConvertedComp`.\n"
      ]
    },
    {
      "cell_type": "code",
      "execution_count": 6,
      "metadata": {
        "trusted": true
      },
      "outputs": [
        {
          "data": {
            "image/png": "[encoded data removed]",
            "text/plain": [
              "<Figure size 640x480 with 1 Axes>"
            ]
          },
          "metadata": {},
          "output_type": "display_data"
        }
      ],
      "source": [
        "# your code goes here\n",
        "import pandas as pd\n",
        "import matplotlib.pyplot as plt\n",
        "\n",
        "# Load your data\n",
        "df = pd.read_csv(\"m2_survey_data.csv\")\n",
        "\n",
        "# Plot the histogram\n",
        "plt.hist(df[\"ConvertedComp\"].dropna(), bins=30, edgecolor='k', alpha=0.7)\n",
        "\n",
        "# Add title and labels\n",
        "plt.title(\"Distribution of ConvertedComp\")\n",
        "plt.xlabel(\"Converted Compensation\")\n",
        "plt.ylabel(\"Frequency\")\n",
        "\n",
        "# Show the plot\n",
        "plt.show()"
      ]
    },
    {
      "cell_type": "markdown",
      "metadata": {},
      "source": [
        "What is the median of the column `ConvertedComp`?\n"
      ]
    },
    {
      "cell_type": "code",
      "execution_count": 10,
      "metadata": {
        "trusted": true
      },
      "outputs": [
        {
          "name": "stdout",
          "output_type": "stream",
          "text": [
            "57745.0\n"
          ]
        }
      ],
      "source": [
        "# your code goes here\n",
        "median_val=df['ConvertedComp'].median()\n",
        "print(median_val)"
      ]
    },
    {
      "cell_type": "markdown",
      "metadata": {},
      "source": [
        "How many responders identified themselves only as a **Man**?\n"
      ]
    },
    {
      "cell_type": "code",
      "execution_count": 11,
      "metadata": {
        "trusted": true
      },
      "outputs": [
        {
          "name": "stdout",
          "output_type": "stream",
          "text": [
            "10480\n"
          ]
        }
      ],
      "source": [
        "# your code goes here\n",
        "# Filter the DataFrame for responders who identified as \"Man\"\n",
        "man_count = df[df['Gender'] == 'Man'].shape[0]\n",
        "\n",
        "# Print the count\n",
        "print(man_count)"
      ]
    },
    {
      "cell_type": "code",
      "execution_count": 12,
      "metadata": {
        "trusted": true
      },
      "outputs": [
        {
          "name": "stdout",
          "output_type": "stream",
          "text": [
            "Gender\n",
            "Man                                                            10480\n",
            "Woman                                                            731\n",
            "Non-binary, genderqueer, or gender non-conforming                 63\n",
            "Man;Non-binary, genderqueer, or gender non-conforming             26\n",
            "Woman;Non-binary, genderqueer, or gender non-conforming           14\n",
            "Woman;Man                                                          9\n",
            "Woman;Man;Non-binary, genderqueer, or gender non-conforming        2\n",
            "Name: count, dtype: int64\n",
            "10480\n"
          ]
        }
      ],
      "source": [
        "# Count the number of responders for each gender category\n",
        "gender_counts = df['Gender'].value_counts()\n",
        "\n",
        "# Print the count for each category\n",
        "print(gender_counts)\n",
        "# Get the count of responders identifying as \"Man\"\n",
        "man_count = gender_counts.get('Man', 0)  # Returns 0 if \"Man\" is not found\n",
        "\n",
        "# Print the count\n",
        "print(man_count)"
      ]
    },
    {
      "cell_type": "markdown",
      "metadata": {},
      "source": [
        "Find out the  median ConvertedComp of responders identified themselves only as a **Woman**?\n"
      ]
    },
    {
      "cell_type": "code",
      "execution_count": 13,
      "metadata": {
        "trusted": true
      },
      "outputs": [
        {
          "name": "stdout",
          "output_type": "stream",
          "text": [
            "57708.0\n"
          ]
        }
      ],
      "source": [
        "# your code goes here\n",
        "# Filter the DataFrame for responders who identified as \"Woman\"\n",
        "women_df = df[df['Gender'] == 'Woman']\n",
        "\n",
        "# Calculate the median of the ConvertedComp column for these responders\n",
        "median_converted_comp_women = women_df['ConvertedComp'].median()\n",
        "\n",
        "# Print the median value\n",
        "print(median_converted_comp_women)"
      ]
    },
    {
      "cell_type": "markdown",
      "metadata": {},
      "source": [
        "**Double click here for hint**.\n",
        "\n",
        "<!--\n",
        "min,q1,median,q3,max of a column are its five number summary.\n",
        "-->\n"
      ]
    },
    {
      "cell_type": "code",
      "execution_count": 14,
      "metadata": {
        "trusted": true
      },
      "outputs": [
        {
          "name": "stdout",
          "output_type": "stream",
          "text": [
            "99.0\n"
          ]
        }
      ],
      "source": [
        "#Give the five number summary for the column `Age`?\n",
        "age_counts=df['Age'].max()\n",
        "print(age_counts)"
      ]
    },
    {
      "cell_type": "code",
      "execution_count": 14,
      "metadata": {
        "trusted": true
      },
      "outputs": [
        {
          "name": "stdout",
          "output_type": "stream",
          "text": [
            "Five-number summary for Age:\n",
            "Minimum: 16.0\n",
            "First Quartile (Q1): 25.0\n",
            "Median: 29.0\n",
            "Third Quartile (Q3): 35.0\n",
            "Maximum: 99.0\n"
          ]
        }
      ],
      "source": [
        "# your code goes here\n",
        "# Calculate the five-number summary for the Age column\n",
        "min_age = df['Age'].min()\n",
        "q1_age = df['Age'].quantile(0.25)\n",
        "median_age = df['Age'].median()\n",
        "q3_age = df['Age'].quantile(0.75)\n",
        "max_age = df['Age'].max()\n",
        "\n",
        "# Print the five-number summary\n",
        "print(\"Five-number summary for Age:\")\n",
        "print(f\"Minimum: {min_age}\")\n",
        "print(f\"First Quartile (Q1): {q1_age}\")\n",
        "print(f\"Median: {median_age}\")\n",
        "print(f\"Third Quartile (Q3): {q3_age}\")\n",
        "print(f\"Maximum: {max_age}\")"
      ]
    },
    {
      "cell_type": "markdown",
      "metadata": {},
      "source": [
        "Plot a histogram of the column `Age`.\n"
      ]
    },
    {
      "cell_type": "code",
      "execution_count": 15,
      "metadata": {
        "trusted": true
      },
      "outputs": [
        {
          "data": {
            "image/png": "[encoded data removed]",
            "text/plain": [
              "<Figure size 1000x600 with 1 Axes>"
            ]
          },
          "metadata": {},
          "output_type": "display_data"
        },
        {
          "name": "stdout",
          "output_type": "stream",
          "text": [
            "The age group with the highest peak is: 28.0 with a count of 787\n"
          ]
        }
      ],
      "source": [
        "import matplotlib.pyplot as plt\n",
        "\n",
        "# Plot a histogram of the 'Age' column\n",
        "plt.figure(figsize=(10, 6))\n",
        "plt.hist(df['Age'], bins=20, edgecolor='k', alpha=0.7)\n",
        "plt.title('Age Distribution')\n",
        "plt.xlabel('Age')\n",
        "plt.ylabel('Frequency')\n",
        "\n",
        "# Show the plot\n",
        "plt.show()\n",
        "# Get the frequency of each age\n",
        "age_counts = df['Age'].value_counts().sort_index()\n",
        "\n",
        "# Identify the age group with the highest frequency\n",
        "highest_peak_age = age_counts.idxmax()\n",
        "highest_peak_count = age_counts.max()\n",
        "\n",
        "print(f\"The age group with the highest peak is: {highest_peak_age} with a count of {highest_peak_count}\")"
      ]
    },
    {
      "cell_type": "code",
      "execution_count": 16,
      "metadata": {
        "trusted": true
      },
      "outputs": [
        {
          "name": "stdout",
          "output_type": "stream",
          "text": [
            "0        22.0\n",
            "1        23.0\n",
            "2        28.0\n",
            "3        26.0\n",
            "4        29.0\n",
            "         ... \n",
            "11393    36.0\n",
            "11394    25.0\n",
            "11395    34.0\n",
            "11396    25.0\n",
            "11397    30.0\n",
            "Name: Age, Length: 11398, dtype: float64\n"
          ]
        }
      ],
      "source": [
        "age_count=df['Age']\n",
        "print(age_count)"
      ]
    },
    {
      "cell_type": "code",
      "execution_count": 17,
      "metadata": {
        "trusted": true
      },
      "outputs": [
        {
          "data": {
            "image/png": "[encoded data removed]",
            "text/plain": [
              "<Figure size 640x480 with 1 Axes>"
            ]
          },
          "metadata": {},
          "output_type": "display_data"
        }
      ],
      "source": [
        "# your code goes here\n",
        "import pandas as pd\n",
        "import matplotlib.pyplot as plt\n",
        "\n",
        "# Load your data\n",
        "df = pd.read_csv(\"m2_survey_data.csv\")\n",
        "\n",
        "# Plot the histogram\n",
        "plt.hist(df[\"Age\"].dropna(), bins=30, edgecolor='k', alpha=0.7)\n",
        "\n",
        "# Add title and labels\n",
        "plt.title(\"Distribution of Age Group\")\n",
        "plt.xlabel(\"Age\")\n",
        "plt.ylabel(\"Hist_Age\")\n",
        "\n",
        "# Show the plot\n",
        "plt.show()"
      ]
    },
    {
      "cell_type": "code",
      "execution_count": 18,
      "metadata": {
        "trusted": true
      },
      "outputs": [
        {
          "data": {
            "image/png": "[encoded data removed]",
            "text/plain": [
              "<Figure size 640x480 with 1 Axes>"
            ]
          },
          "metadata": {},
          "output_type": "display_data"
        }
      ],
      "source": [
        "import matplotlib.pyplot as plt\n",
        "\n",
        "# Box plot to visualize outliers in the Age column\n",
        "plt.boxplot(df['Age'].dropna())\n",
        "plt.title('Box plot of Age')\n",
        "plt.ylabel('Age')\n",
        "plt.show()"
      ]
    },
    {
      "cell_type": "markdown",
      "metadata": {},
      "source": [
        "## Outliers\n"
      ]
    },
    {
      "cell_type": "markdown",
      "metadata": {},
      "source": [
        "### Finding outliers\n"
      ]
    },
    {
      "cell_type": "markdown",
      "metadata": {},
      "source": [
        "Find out if outliers exist in the column `ConvertedComp` using a box plot?\n"
      ]
    },
    {
      "cell_type": "code",
      "execution_count": 19,
      "metadata": {
        "trusted": true
      },
      "outputs": [
        {
          "data": {
            "image/png": "[encoded data removed]",
            "text/plain": [
              "<Figure size 640x480 with 1 Axes>"
            ]
          },
          "metadata": {},
          "output_type": "display_data"
        }
      ],
      "source": [
        "# your code goes here\n",
        "import matplotlib.pyplot as plt\n",
        "\n",
        "# Box plot to visualize outliers in the Age column\n",
        "plt.boxplot(df['ConvertedComp'].dropna())\n",
        "plt.title('Box plot of ConvertedComp')\n",
        "plt.ylabel('ConvertedComp')\n",
        "plt.show()\n",
        "\n",
        "# Using IQR to identify outliers\n",
        "Q1 = df['Age'].quantile(0.25)\n",
        "Q3 = df['Age'].quantile(0.75)\n",
        "IQR = Q3 - Q1\n",
        "\n",
        "# Define outliers\n",
        "outliers = df[(df['Age'] < (Q1 - 1.5 * IQR)) | (df['Age'] > (Q3 + 1.5 * IQR))]"
      ]
    },
    {
      "cell_type": "code",
      "execution_count": 20,
      "metadata": {
        "trusted": true
      },
      "outputs": [
        {
          "name": "stdout",
          "output_type": "stream",
          "text": [
            "Number of outliers below Q1 in 'ConvertedComp': 0\n"
          ]
        }
      ],
      "source": [
        "# Calculate the first quartile (Q1)\n",
        "Q1 = df['ConvertedComp'].quantile(0.25)\n",
        "\n",
        "# Calculate the Interquartile Range (IQR)\n",
        "IQR = df['ConvertedComp'].quantile(0.75) - Q1\n",
        "\n",
        "# Calculate the lower bound for outliers\n",
        "lower_bound = Q1 - 1.5 * IQR\n",
        "\n",
        "# Count the number of outliers below Q1\n",
        "outliers_below_Q1 = df[df['ConvertedComp'] < lower_bound].shape[0]\n",
        "\n",
        "# Print the number of outliers below Q1\n",
        "print(\"Number of outliers below Q1 in 'ConvertedComp':\", outliers_below_Q1)"
      ]
    },
    {
      "cell_type": "markdown",
      "metadata": {},
      "source": [
        "Find out the Inter Quartile Range for the column `ConvertedComp`."
      ]
    },
    {
      "cell_type": "code",
      "execution_count": 21,
      "metadata": {
        "trusted": true
      },
      "outputs": [
        {
          "name": "stdout",
          "output_type": "stream",
          "text": [
            "Interquartile Range (IQR) for ConvertedComp: 73132.0\n"
          ]
        }
      ],
      "source": [
        "# your code goes here\n",
        "# Calculate the first and third quartiles\n",
        "Q1 = df['ConvertedComp'].quantile(0.25)\n",
        "Q3 = df['ConvertedComp'].quantile(0.75)\n",
        "\n",
        "# Calculate the Interquartile Range (IQR)\n",
        "IQR = Q3 - Q1\n",
        "\n",
        "# Print the IQR\n",
        "print(\"Interquartile Range (IQR) for ConvertedComp:\", IQR)"
      ]
    },
    {
      "cell_type": "markdown",
      "metadata": {},
      "source": [
        "Find out the upper and lower bounds.\n"
      ]
    },
    {
      "cell_type": "code",
      "execution_count": 22,
      "metadata": {
        "trusted": true
      },
      "outputs": [
        {
          "name": "stdout",
          "output_type": "stream",
          "text": [
            "Lower bound for outliers: -82830.0\n",
            "Upper bound for outliers: 209698.0\n"
          ]
        }
      ],
      "source": [
        "# Calculate the first and third quartiles\n",
        "Q1 = df['ConvertedComp'].quantile(0.25)\n",
        "Q3 = df['ConvertedComp'].quantile(0.75)\n",
        "\n",
        "# Calculate the Interquartile Range (IQR)\n",
        "IQR = Q3 - Q1\n",
        "\n",
        "# Calculate the lower and upper bounds for outliers\n",
        "lower_bound = Q1 - 1.5 * IQR\n",
        "upper_bound = Q3 + 1.5 * IQR\n",
        "\n",
        "# Print the lower and upper bounds\n",
        "print(\"Lower bound for outliers:\", lower_bound)\n",
        "print(\"Upper bound for outliers:\", upper_bound)"
      ]
    },
    {
      "cell_type": "markdown",
      "metadata": {},
      "source": [
        "Identify how many outliers are there in the `ConvertedComp` column.\n"
      ]
    },
    {
      "cell_type": "code",
      "execution_count": 23,
      "metadata": {
        "trusted": true
      },
      "outputs": [
        {
          "name": "stdout",
          "output_type": "stream",
          "text": [
            "Number of outliers in ConvertedComp: 879\n"
          ]
        }
      ],
      "source": [
        "# your code goes here\n",
        "# Calculate the first and third quartiles\n",
        "Q1 = df['ConvertedComp'].quantile(0.25)\n",
        "Q3 = df['ConvertedComp'].quantile(0.75)\n",
        "\n",
        "# Calculate the Interquartile Range (IQR)\n",
        "IQR = Q3 - Q1\n",
        "\n",
        "# Calculate the lower and upper bounds for outliers\n",
        "lower_bound = Q1 - 1.5 * IQR\n",
        "upper_bound = Q3 + 1.5 * IQR\n",
        "\n",
        "# Identify outliers\n",
        "outliers = df[(df['ConvertedComp'] < lower_bound) | (df['ConvertedComp'] > upper_bound)]\n",
        "\n",
        "# Count the number of outliers\n",
        "num_outliers = outliers.shape[0]\n",
        "\n",
        "# Print the number of outliers\n",
        "print(\"Number of outliers in ConvertedComp:\", num_outliers)"
      ]
    },
    {
      "cell_type": "markdown",
      "metadata": {},
      "source": [
        "Create a new dataframe by removing the outliers from the `ConvertedComp` column.\n"
      ]
    },
    {
      "cell_type": "code",
      "execution_count": 24,
      "metadata": {
        "trusted": true
      },
      "outputs": [
        {
          "name": "stdout",
          "output_type": "stream",
          "text": [
            "DataFrame without outliers in ConvertedComp:\n",
            "       Respondent                      MainBranch Hobbyist  \\\n",
            "0               4  I am a developer by profession       No   \n",
            "1               9  I am a developer by profession      Yes   \n",
            "2              13  I am a developer by profession      Yes   \n",
            "4              17  I am a developer by profession      Yes   \n",
            "5              19  I am a developer by profession      Yes   \n",
            "...           ...                             ...      ...   \n",
            "11392       25134  I am a developer by profession      Yes   \n",
            "11393       25136  I am a developer by profession      Yes   \n",
            "11394       25137  I am a developer by profession      Yes   \n",
            "11395       25138  I am a developer by profession      Yes   \n",
            "11396       25141  I am a developer by profession      Yes   \n",
            "\n",
            "                                             OpenSourcer  \\\n",
            "0                                                  Never   \n",
            "1                             Once a month or more often   \n",
            "2      Less than once a month but more than once per ...   \n",
            "4      Less than once a month but more than once per ...   \n",
            "5                                                  Never   \n",
            "...                                                  ...   \n",
            "11392  Less than once a month but more than once per ...   \n",
            "11393                                              Never   \n",
            "11394                                              Never   \n",
            "11395                            Less than once per year   \n",
            "11396  Less than once a month but more than once per ...   \n",
            "\n",
            "                                              OpenSource          Employment  \\\n",
            "0      The quality of OSS and closed source software ...  Employed full-time   \n",
            "1      The quality of OSS and closed source software ...  Employed full-time   \n",
            "2      OSS is, on average, of HIGHER quality than pro...  Employed full-time   \n",
            "4      The quality of OSS and closed source software ...  Employed full-time   \n",
            "5      The quality of OSS and closed source software ...  Employed full-time   \n",
            "...                                                  ...                 ...   \n",
            "11392  OSS is, on average, of HIGHER quality than pro...  Employed full-time   \n",
            "11393  OSS is, on average, of HIGHER quality than pro...  Employed full-time   \n",
            "11394  The quality of OSS and closed source software ...  Employed full-time   \n",
            "11395  The quality of OSS and closed source software ...  Employed full-time   \n",
            "11396  OSS is, on average, of LOWER quality than prop...  Employed full-time   \n",
            "\n",
            "             Country Student  \\\n",
            "0      United States      No   \n",
            "1        New Zealand      No   \n",
            "2      United States      No   \n",
            "4          Australia      No   \n",
            "5             Brazil      No   \n",
            "...              ...     ...   \n",
            "11392        Ecuador      No   \n",
            "11393  United States      No   \n",
            "11394         Poland      No   \n",
            "11395  United States      No   \n",
            "11396    Switzerland      No   \n",
            "\n",
            "                                                 EdLevel  \\\n",
            "0               Bachelor’s degree (BA, BS, B.Eng., etc.)   \n",
            "1      Some college/university study without earning ...   \n",
            "2            Master’s degree (MA, MS, M.Eng., MBA, etc.)   \n",
            "4               Bachelor’s degree (BA, BS, B.Eng., etc.)   \n",
            "5      Some college/university study without earning ...   \n",
            "...                                                  ...   \n",
            "11392           Bachelor’s degree (BA, BS, B.Eng., etc.)   \n",
            "11393        Master’s degree (MA, MS, M.Eng., MBA, etc.)   \n",
            "11394        Master’s degree (MA, MS, M.Eng., MBA, etc.)   \n",
            "11395        Master’s degree (MA, MS, M.Eng., MBA, etc.)   \n",
            "11396  Secondary school (e.g. American high school, G...   \n",
            "\n",
            "                                          UndergradMajor  ...  \\\n",
            "0      Computer science, computer engineering, or sof...  ...   \n",
            "1      Computer science, computer engineering, or sof...  ...   \n",
            "2      Computer science, computer engineering, or sof...  ...   \n",
            "4      Computer science, computer engineering, or sof...  ...   \n",
            "5      Computer science, computer engineering, or sof...  ...   \n",
            "...                                                  ...  ...   \n",
            "11392  Computer science, computer engineering, or sof...  ...   \n",
            "11393  Computer science, computer engineering, or sof...  ...   \n",
            "11394  Computer science, computer engineering, or sof...  ...   \n",
            "11395  Computer science, computer engineering, or sof...  ...   \n",
            "11396                                                NaN  ...   \n",
            "\n",
            "                                  WelcomeChange  \\\n",
            "0       Just as welcome now as I felt last year   \n",
            "1       Just as welcome now as I felt last year   \n",
            "2      Somewhat more welcome now than last year   \n",
            "4       Just as welcome now as I felt last year   \n",
            "5       Just as welcome now as I felt last year   \n",
            "...                                         ...   \n",
            "11392  Somewhat less welcome now than last year   \n",
            "11393   Just as welcome now as I felt last year   \n",
            "11394     A lot more welcome now than last year   \n",
            "11395     A lot more welcome now than last year   \n",
            "11396  Somewhat less welcome now than last year   \n",
            "\n",
            "                                            SONewContent   Age Gender Trans  \\\n",
            "0      Tech articles written by other developers;Indu...  22.0    Man    No   \n",
            "1                                                    NaN  23.0    Man    No   \n",
            "2      Tech articles written by other developers;Cour...  28.0    Man    No   \n",
            "4      Tech articles written by other developers;Indu...  29.0    Man    No   \n",
            "5      Tech articles written by other developers;Indu...  31.0    Man    No   \n",
            "...                                                  ...   ...    ...   ...   \n",
            "11392          Tech articles written by other developers  32.0    Man    No   \n",
            "11393  Tech articles written by other developers;Cour...  36.0    Man    No   \n",
            "11394  Tech articles written by other developers;Tech...  25.0    Man    No   \n",
            "11395  Tech articles written by other developers;Indu...  34.0    Man    No   \n",
            "11396                                                NaN  25.0    Man    No   \n",
            "\n",
            "                     Sexuality                              Ethnicity  \\\n",
            "0      Straight / Heterosexual           White or of European descent   \n",
            "1                     Bisexual           White or of European descent   \n",
            "2      Straight / Heterosexual           White or of European descent   \n",
            "4      Straight / Heterosexual  Hispanic or Latino/Latina;Multiracial   \n",
            "5      Straight / Heterosexual              Hispanic or Latino/Latina   \n",
            "...                        ...                                    ...   \n",
            "11392  Straight / Heterosexual              Hispanic or Latino/Latina   \n",
            "11393  Straight / Heterosexual           White or of European descent   \n",
            "11394  Straight / Heterosexual           White or of European descent   \n",
            "11395  Straight / Heterosexual           White or of European descent   \n",
            "11396  Straight / Heterosexual           White or of European descent   \n",
            "\n",
            "      Dependents           SurveyLength                  SurveyEase  \n",
            "0             No  Appropriate in length                        Easy  \n",
            "1             No  Appropriate in length  Neither easy nor difficult  \n",
            "2            Yes  Appropriate in length                        Easy  \n",
            "4             No  Appropriate in length                        Easy  \n",
            "5            Yes               Too long                        Easy  \n",
            "...          ...                    ...                         ...  \n",
            "11392         No  Appropriate in length                        Easy  \n",
            "11393         No  Appropriate in length                   Difficult  \n",
            "11394         No  Appropriate in length  Neither easy nor difficult  \n",
            "11395        Yes               Too long                        Easy  \n",
            "11396         No  Appropriate in length                        Easy  \n",
            "\n",
            "[9703 rows x 85 columns]\n"
          ]
        }
      ],
      "source": [
        "# your code goes here\n",
        "# Calculate the first and third quartiles\n",
        "Q1 = df['ConvertedComp'].quantile(0.25)\n",
        "Q3 = df['ConvertedComp'].quantile(0.75)\n",
        "\n",
        "# Calculate the Interquartile Range (IQR)\n",
        "IQR = Q3 - Q1\n",
        "\n",
        "# Calculate the lower and upper bounds for outliers\n",
        "lower_bound = Q1 - 1.5 * IQR\n",
        "upper_bound = Q3 + 1.5 * IQR\n",
        "\n",
        "# Create a new DataFrame without outliers\n",
        "df_no_outliers = df[(df['ConvertedComp'] >= lower_bound) & (df['ConvertedComp'] <= upper_bound)]\n",
        "\n",
        "# Display the new DataFrame\n",
        "print(\"DataFrame without outliers in ConvertedComp:\")\n",
        "print(df_no_outliers)"
      ]
    },
    {
      "cell_type": "code",
      "execution_count": 24,
      "metadata": {
        "trusted": true
      },
      "outputs": [
        {
          "name": "stdout",
          "output_type": "stream",
          "text": [
            "Median of 'ConvertedComp' after removing outliers: 52704.0\n"
          ]
        }
      ],
      "source": [
        "# Calculate the median of the 'ConvertedComp' column after removing outliers\n",
        "median_no_outliers = df_no_outliers['ConvertedComp'].median()\n",
        "\n",
        "# Print the median\n",
        "print(\"Median of 'ConvertedComp' after removing outliers:\", median_no_outliers)"
      ]
    },
    {
      "cell_type": "markdown",
      "metadata": {},
      "source": [
        "## Correlation\n"
      ]
    },
    {
      "cell_type": "markdown",
      "metadata": {},
      "source": [
        "### Finding correlation\n"
      ]
    },
    {
      "cell_type": "markdown",
      "metadata": {},
      "source": [
        "Find the correlation between `Age` and all other numerical columns.\n"
      ]
    },
    {
      "cell_type": "code",
      "execution_count": 25,
      "metadata": {
        "trusted": true
      },
      "outputs": [
        {
          "name": "stdout",
          "output_type": "stream",
          "text": [
            "Numerical columns in the DataFrame:\n",
            "Index(['Respondent', 'CompTotal', 'ConvertedComp', 'WorkWeekHrs', 'CodeRevHrs',\n",
            "       'Age'],\n",
            "      dtype='object')\n"
          ]
        }
      ],
      "source": [
        "# Select all numerical columns from the DataFrame\n",
        "numerical_columns = df.select_dtypes(include=['number']).columns\n",
        "\n",
        "# Print the list of numerical columns\n",
        "print(\"Numerical columns in the DataFrame:\")\n",
        "print(numerical_columns)"
      ]
    },
    {
      "cell_type": "code",
      "execution_count": 26,
      "metadata": {
        "trusted": true
      },
      "outputs": [
        {
          "name": "stdout",
          "output_type": "stream",
          "text": [
            "Total number of columns in the DataFrame: 85\n"
          ]
        }
      ],
      "source": [
        "# Get the total number of columns in the DataFrame\n",
        "total_columns = df.shape[1]\n",
        "\n",
        "# Print the total number of columns\n",
        "print(\"Total number of columns in the DataFrame:\", total_columns)"
      ]
    },
    {
      "cell_type": "code",
      "execution_count": 27,
      "metadata": {
        "trusted": true
      },
      "outputs": [
        {
          "name": "stdout",
          "output_type": "stream",
          "text": [
            "Correlation between 'Age' and other numerical columns:\n",
            "Respondent       0.004041\n",
            "CompTotal        0.006970\n",
            "ConvertedComp    0.105386\n",
            "WorkWeekHrs      0.036518\n",
            "CodeRevHrs      -0.020469\n",
            "Age              1.000000\n",
            "Name: Age, dtype: float64\n"
          ]
        }
      ],
      "source": [
        "# your code goes here\n",
        "# Select all numerical columns from the DataFrame\n",
        "numerical_columns = df.select_dtypes(include=['number'])\n",
        "\n",
        "# Calculate the correlation matrix for numerical columns\n",
        "correlation_matrix = numerical_columns.corr()\n",
        "\n",
        "# Extract the correlation values for the 'Age' column\n",
        "age_correlation = correlation_matrix['Age']\n",
        "\n",
        "# Print the correlation of 'Age' with other numerical columns\n",
        "print(\"Correlation between 'Age' and other numerical columns:\")\n",
        "print(age_correlation)"
      ]
    },
    {
      "cell_type": "code",
      "execution_count": 1,
      "metadata": {
        "trusted": true
      },
      "outputs": [
        {
          "name": "stdout",
          "output_type": "stream",
          "text": [
            "/drive/DA0321EN/labs/module 3\n"
          ]
        }
      ],
      "source": [
        "import os\n",
        "print(os.getcwd())"
      ]
    },
    {
      "cell_type": "markdown",
      "metadata": {},
      "source": [
        "## Authors\n"
      ]
    },
    {
      "cell_type": "markdown",
      "metadata": {},
      "source": [
        "Ramesh Sannareddy\n"
      ]
    },
    {
      "cell_type": "markdown",
      "metadata": {},
      "source": [
        "### Other Contributors\n"
      ]
    },
    {
      "cell_type": "markdown",
      "metadata": {},
      "source": [
        "Rav Ahuja\n"
      ]
    },
    {
      "cell_type": "markdown",
      "metadata": {},
      "source": [
        " Copyright © 2020 IBM Corporation. This notebook and its source code are released under the terms of the [MIT License](https://cognitiveclass.ai/mit-license?cm_mmc=Email_Newsletter-_-Developer_Ed%2BTech-_-WW_WW-_-SkillsNetwork-Courses-IBM-DA0321EN-SkillsNetwork-21426264&cm_mmca1=000026UJ&cm_mmca2=10006555&cm_mmca3=M12345678&cvosrc=email.Newsletter.M12345678&cvo_campaign=000026UJ&cm_mmc=Email_Newsletter-_-Developer_Ed%2BTech-_-WW_WW-_-SkillsNetwork-Courses-IBM-DA0321EN-SkillsNetwork-21426264&cm_mmca1=000026UJ&cm_mmca2=10006555&cm_mmca3=M12345678&cvosrc=email.Newsletter.M12345678&cvo_campaign=000026UJ&cm_mmc=Email_Newsletter-_-Developer_Ed%2BTech-_-WW_WW-_-SkillsNetwork-Courses-IBM-DA0321EN-SkillsNetwork-21426264&cm_mmca1=000026UJ&cm_mmca2=10006555&cm_mmca3=M12345678&cvosrc=email.Newsletter.M12345678&cvo_campaign=000026UJ&cm_mmc=Email_Newsletter-_-Developer_Ed%2BTech-_-WW_WW-_-SkillsNetwork-Courses-IBM-DA0321EN-SkillsNetwork-21426264&cm_mmca1=000026UJ&cm_mmca2=10006555&cm_mmca3=M12345678&cvosrc=email.Newsletter.M12345678&cvo_campaign=000026UJ).\n"
      ]
    },
    {
      "cell_type": "markdown",
      "metadata": {},
      "source": [
        "<!--## Change Log\n"
      ]
    },
    {
      "cell_type": "markdown",
      "metadata": {},
      "source": [
        "<!--| Date (YYYY-MM-DD) | Version | Changed By        | Change Description                 |\n",
        "| ----------------- | ------- | ----------------- | ---------------------------------- |\n",
        "| 2020-10-17        | 0.1     | Ramesh Sannareddy | Created initial version of the lab |--!>\n"
      ]
    }
  ],
  "metadata": {
    "kernelspec": {
      "display_name": "Python (Pyodide)",
      "language": "python",
      "name": "python"
    },
    "language_info": {
      "codemirror_mode": {
        "name": "python",
        "version": 3
      },
      "file_extension": ".py",
      "mimetype": "text/x-python",
      "name": "python",
      "nbconvert_exporter": "python",
      "pygments_lexer": "ipython3",
      "version": "3.8"
    },
    "prev_pub_hash": "079bf8854a4255688941af2bd371b587b1f25737b4330b6346f5799c6c867e75"
  },
  "nbformat": 4,
  "nbformat_minor": 4
}
